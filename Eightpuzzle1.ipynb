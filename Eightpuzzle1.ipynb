{
 "cells": [
  {
   "cell_type": "code",
   "execution_count": 13,
   "metadata": {},
   "outputs": [
    {
     "name": "stdout",
     "output_type": "stream",
     "text": [
      "1  2  3  4  5  6  e  7  8  "
     ]
    },
    {
     "ename": "ValueError",
     "evalue": "'e' is not in list",
     "output_type": "error",
     "traceback": [
      "\u001b[1;31m---------------------------------------------------------------------------\u001b[0m",
      "\u001b[1;31mValueError\u001b[0m                                Traceback (most recent call last)",
      "\u001b[1;32m<ipython-input-13-1d17cfc873f3>\u001b[0m in \u001b[0;36m<module>\u001b[1;34m\u001b[0m\n\u001b[0;32m     65\u001b[0m \u001b[1;33m\u001b[0m\u001b[0m\n\u001b[0;32m     66\u001b[0m \u001b[0mp1\u001b[0m\u001b[1;33m.\u001b[0m\u001b[0mprintMatrix\u001b[0m\u001b[1;33m(\u001b[0m\u001b[0mtest1\u001b[0m\u001b[1;33m)\u001b[0m\u001b[1;33m\u001b[0m\u001b[1;33m\u001b[0m\u001b[0m\n\u001b[1;32m---> 67\u001b[1;33m \u001b[0mp1\u001b[0m\u001b[1;33m.\u001b[0m\u001b[0mmove_left\u001b[0m\u001b[1;33m(\u001b[0m\u001b[0mtest1\u001b[0m\u001b[1;33m)\u001b[0m\u001b[1;33m\u001b[0m\u001b[1;33m\u001b[0m\u001b[0m\n\u001b[0m",
      "\u001b[1;32m<ipython-input-13-1d17cfc873f3>\u001b[0m in \u001b[0;36mmove_left\u001b[1;34m(self, intial)\u001b[0m\n\u001b[0;32m     15\u001b[0m         \u001b[0mself\u001b[0m\u001b[1;33m.\u001b[0m\u001b[0mswap\u001b[0m \u001b[1;33m=\u001b[0m \u001b[0mself\u001b[0m\u001b[1;33m.\u001b[0m\u001b[0mintial\u001b[0m\u001b[1;33m.\u001b[0m\u001b[0mcopy\u001b[0m\u001b[1;33m(\u001b[0m\u001b[1;33m)\u001b[0m\u001b[1;33m\u001b[0m\u001b[1;33m\u001b[0m\u001b[0m\n\u001b[0;32m     16\u001b[0m \u001b[1;33m\u001b[0m\u001b[0m\n\u001b[1;32m---> 17\u001b[1;33m         \u001b[0mself\u001b[0m\u001b[1;33m.\u001b[0m\u001b[0midx\u001b[0m \u001b[1;33m=\u001b[0m \u001b[0mself\u001b[0m\u001b[1;33m.\u001b[0m\u001b[0mswap\u001b[0m\u001b[1;33m.\u001b[0m\u001b[0mindex\u001b[0m\u001b[1;33m(\u001b[0m\u001b[1;34m'e'\u001b[0m\u001b[1;33m)\u001b[0m\u001b[1;33m\u001b[0m\u001b[1;33m\u001b[0m\u001b[0m\n\u001b[0m\u001b[0;32m     18\u001b[0m         \u001b[1;32mif\u001b[0m \u001b[1;33m(\u001b[0m\u001b[0mself\u001b[0m\u001b[1;33m.\u001b[0m\u001b[0midx\u001b[0m \u001b[1;33m==\u001b[0m \u001b[1;36m0\u001b[0m \u001b[1;32mor\u001b[0m \u001b[0mself\u001b[0m\u001b[1;33m.\u001b[0m\u001b[0midx\u001b[0m \u001b[1;33m==\u001b[0m \u001b[1;36m3\u001b[0m \u001b[1;32mor\u001b[0m \u001b[0mself\u001b[0m\u001b[1;33m.\u001b[0m\u001b[0midx\u001b[0m \u001b[1;33m==\u001b[0m \u001b[1;36m6\u001b[0m\u001b[1;33m)\u001b[0m\u001b[1;33m:\u001b[0m\u001b[1;33m\u001b[0m\u001b[1;33m\u001b[0m\u001b[0m\n\u001b[0;32m     19\u001b[0m             \u001b[1;32mreturn\u001b[0m \u001b[0mself\u001b[0m\u001b[1;33m.\u001b[0m\u001b[0mswap\u001b[0m\u001b[1;33m\u001b[0m\u001b[1;33m\u001b[0m\u001b[0m\n",
      "\u001b[1;31mValueError\u001b[0m: 'e' is not in list"
     ]
    }
   ],
   "source": [
    "class Eightpuzzle:\n",
    "    def __init__(self, intial, goal, state):\n",
    "        self.intial = intial\n",
    "        self.goal = goal\n",
    "        self.state=state\n",
    "        \n",
    "       \n",
    "  \n",
    "    def printMatrix(self, intial):  \n",
    "        for i in range(3):  \n",
    "            for j in range(3):  \n",
    "                print(\"%s \" % (self.intial[i][j]), end = \" \") \n",
    "                \n",
    "    def move_left(self,intial):\n",
    "        self.swap = self.intial.copy()\n",
    "        \n",
    "        self.idx = self.swap.index('e') \n",
    "        if (self.idx == 0 or self.idx == 3 or self.idx == 6):\n",
    "            return self.swap\n",
    "        else:\n",
    "            self.swap[idx-1] , self.swap[idx] = self.swap[idx] , self.swap[idx-1]  \n",
    "            return self.swap\n",
    "          \n",
    "    def move_right(self,intial):\n",
    "        self.swap = self.intial.copy()\n",
    "        self.idx = self.swap.index('e') \n",
    "        if (self.idx == 2 or self.idx == 5 or self.idx == 8):\n",
    "            return self.swap\n",
    "        else:\n",
    "            self.swap[idx+1] , self.swap[idx] = self.swap[idx] , self.swap[idx+1]  \n",
    "            return self.swap\n",
    "\n",
    "\n",
    "    def move_up(self,intial):\n",
    "        self.swap = self.intial.copy()\n",
    "        self.idx = self.swap.index('e')  \n",
    "        if (self.idx == 0 or self.idx == 1 or self.idx == 2):\n",
    "            return self.swap\n",
    "        else:\n",
    "            self.swap[idx-3] , self.swap[idx] = self.swap[idx] , self.swap[idx-3]  \n",
    "            return self.swap\n",
    "\n",
    "\n",
    "    def move_down(self,intial):\n",
    "        self.swap = self.intial.copy()\n",
    "        self.idx = self.swap.index('e') \n",
    "        if (self.idx == 6 or self.idx == 7 or self.idx ==8):\n",
    "            return self.swap\n",
    "        else:\n",
    "            self.swap[idx+3] , self.swap[idx] = self.swap[idx] , self.swap[idx+3]  \n",
    "            return self.swap             \n",
    "    \n",
    "\n",
    "      \n",
    "\n",
    "    \n",
    "\n",
    "\n",
    "test1 = [[1,2,3],[4,5,6],['e',7,8]]  \n",
    "test2= [[0,1,2],[3,4,5],[6,7,8]] \n",
    "state1=[[0,2,3],[4,5,6],[1,7,8]] \n",
    "\n",
    "p1=Eightpuzzle(test1,test2,state1)\n",
    "\n",
    "\n",
    "p1.printMatrix(test1)\n",
    "p1.move_left(test1)"
   ]
  },
  {
   "cell_type": "code",
   "execution_count": null,
   "metadata": {},
   "outputs": [],
   "source": []
  },
  {
   "cell_type": "code",
   "execution_count": null,
   "metadata": {},
   "outputs": [],
   "source": []
  }
 ],
 "metadata": {
  "kernelspec": {
   "display_name": "Python 3",
   "language": "python",
   "name": "python3"
  },
  "language_info": {
   "codemirror_mode": {
    "name": "ipython",
    "version": 3
   },
   "file_extension": ".py",
   "mimetype": "text/x-python",
   "name": "python",
   "nbconvert_exporter": "python",
   "pygments_lexer": "ipython3",
   "version": "3.8.5"
  }
 },
 "nbformat": 4,
 "nbformat_minor": 4
}
